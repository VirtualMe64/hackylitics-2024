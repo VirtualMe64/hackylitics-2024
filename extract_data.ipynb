{
 "cells": [
  {
   "cell_type": "code",
   "execution_count": 29,
   "metadata": {},
   "outputs": [],
   "source": [
    "import nfl_data_py as nfl\n",
    "import pandas as pd\n",
    "import numpy as np"
   ]
  },
  {
   "cell_type": "code",
   "execution_count": null,
   "metadata": {},
   "outputs": [],
   "source": [
    "data = nfl.import_pbp_data([2023])"
   ]
  },
  {
   "cell_type": "code",
   "execution_count": 16,
   "metadata": {},
   "outputs": [
    {
     "data": {
      "text/plain": [
       "0        2023_01_ARI_WAS\n",
       "1        2023_01_ARI_WAS\n",
       "2        2023_01_ARI_WAS\n",
       "3        2023_01_ARI_WAS\n",
       "4        2023_01_ARI_WAS\n",
       "              ...       \n",
       "49453     2023_21_KC_BAL\n",
       "49454     2023_21_KC_BAL\n",
       "49455     2023_21_KC_BAL\n",
       "49456     2023_21_KC_BAL\n",
       "49457     2023_21_KC_BAL\n",
       "Name: game_id, Length: 49458, dtype: object"
      ]
     },
     "execution_count": 16,
     "metadata": {},
     "output_type": "execute_result"
    }
   ],
   "source": [
    "data['game_id']"
   ]
  },
  {
   "cell_type": "code",
   "execution_count": 31,
   "metadata": {},
   "outputs": [
    {
     "name": "stdout",
     "output_type": "stream",
     "text": [
      " nan\n",
      " nan\n",
      " nan\n",
      " nan\n",
      " nan\n"
     ]
    }
   ],
   "source": [
    "def extract_yards(game_id):\n",
    "    game = data[data['game_id'] == \"2023_01_ARI_WAS\"]\n",
    "    yards_dict = {}\n",
    "    for index, play in game.iterrows():\n",
    "        team = play['possession_team']\n",
    "        yards_gained = play['yards_gained']\n",
    "\n",
    "        if not np.isnan(yards_gained):\n",
    "            print(team, yards_gained)\n",
    "\n",
    "extract_yards(\"2023_01_ARI_WAS\")"
   ]
  }
 ],
 "metadata": {
  "kernelspec": {
   "display_name": ".venv",
   "language": "python",
   "name": "python3"
  },
  "language_info": {
   "codemirror_mode": {
    "name": "ipython",
    "version": 3
   },
   "file_extension": ".py",
   "mimetype": "text/x-python",
   "name": "python",
   "nbconvert_exporter": "python",
   "pygments_lexer": "ipython3",
   "version": "3.10.5"
  }
 },
 "nbformat": 4,
 "nbformat_minor": 2
}
